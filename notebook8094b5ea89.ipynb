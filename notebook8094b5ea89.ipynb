{
 "cells": [
  {
   "cell_type": "code",
   "execution_count": 1,
   "id": "7e4b537e",
   "metadata": {
    "_cell_guid": "ddbf6b9a-e81d-4751-84c6-a4d2da9c157e",
    "_uuid": "15149bbd-158f-4d4f-b386-9e156ccb8010",
    "collapsed": false,
    "execution": {
     "iopub.execute_input": "2025-01-12T23:06:39.004772Z",
     "iopub.status.busy": "2025-01-12T23:06:39.004396Z",
     "iopub.status.idle": "2025-01-12T23:06:39.389307Z",
     "shell.execute_reply": "2025-01-12T23:06:39.388233Z"
    },
    "jupyter": {
     "outputs_hidden": false
    },
    "papermill": {
     "duration": 0.390589,
     "end_time": "2025-01-12T23:06:39.391274",
     "exception": false,
     "start_time": "2025-01-12T23:06:39.000685",
     "status": "completed"
    },
    "tags": []
   },
   "outputs": [],
   "source": [
    "# This Python 3 environment comes with many helpful analytics libraries installed\n",
    "# It is defined by the kaggle/python Docker image: https://github.com/kaggle/docker-python\n",
    "# For example, here's several helpful packages to load\n",
    "\n",
    "import numpy as np # linear algebra\n",
    "import pandas as pd # data processing, CSV file I/O (e.g. pd.read_csv)\n",
    "\n",
    "# Input data files are available in the read-only \"../input/\" directory\n",
    "# For example, running this (by clicking run or pressing Shift+Enter) will list all files under the input directory\n",
    "\n",
    "import os\n",
    "for dirname, _, filenames in os.walk('/kaggle/input'):\n",
    "    for filename in filenames:\n",
    "        print(os.path.join(dirname, filename))\n",
    "\n",
    "# You can write up to 20GB to the current directory (/kaggle/working/) that gets preserved as output when you create a version using \"Save & Run All\" \n",
    "# You can also write temporary files to /kaggle/temp/, but they won't be saved outside of the current session"
   ]
  },
  {
   "cell_type": "markdown",
   "id": "627b538c",
   "metadata": {
    "_cell_guid": "2260fd67-5d03-43a6-84a8-c096c70589ce",
    "_uuid": "36be7924-2845-428f-8173-730635643ebb",
    "collapsed": false,
    "jupyter": {
     "outputs_hidden": false
    },
    "papermill": {
     "duration": 0.001814,
     "end_time": "2025-01-12T23:06:39.396132",
     "exception": false,
     "start_time": "2025-01-12T23:06:39.394318",
     "status": "completed"
    },
    "tags": []
   },
   "source": [
    "<code style=\"background:yellow\">hello</code> world!"
   ]
  },
  {
   "cell_type": "markdown",
   "id": "d3b42f7a",
   "metadata": {
    "_cell_guid": "a6d5ea5b-b6be-43e4-8f3f-4d8e6eef73c8",
    "_uuid": "047390d2-cd20-40ec-808b-9d7daf5f0c22",
    "collapsed": false,
    "jupyter": {
     "outputs_hidden": false
    },
    "papermill": {
     "duration": 0.001617,
     "end_time": "2025-01-12T23:06:39.399782",
     "exception": false,
     "start_time": "2025-01-12T23:06:39.398165",
     "status": "completed"
    },
    "tags": []
   },
   "source": [
    "\"As you can see, the different types of malware look very distinctive to the human eye. The model the researchers trained based on this image representation was more accurate at malware classification than any previous approach shown in the academic literature. This suggests a good rule of thumb for converting a dataset into an image representation: if the human eye can recognize categories from the images, then a deep learning model should be able to do so too.\\n\",\n",
    "    \"\\n\",\n",
    "    \"<code style=background:yellow> In general, you'll find that a small number of general approaches in deep learning can go a long way, if you're a bit creative in how you represent your data! </code> You shouldn't think of approaches like the ones described here as \\\"hacky workarounds,\\\" because actually they often (as here) beat previously state-of-the-art results. These really are the right ways to think about these problem domains.\"\n",
    " "
   ]
  },
  {
   "cell_type": "code",
   "execution_count": null,
   "id": "f2697295",
   "metadata": {
    "papermill": {
     "duration": 0.001523,
     "end_time": "2025-01-12T23:06:39.403156",
     "exception": false,
     "start_time": "2025-01-12T23:06:39.401633",
     "status": "completed"
    },
    "tags": []
   },
   "outputs": [],
   "source": []
  },
  {
   "cell_type": "markdown",
   "id": "f0f6ec7e",
   "metadata": {
    "papermill": {
     "duration": 0.001706,
     "end_time": "2025-01-12T23:06:39.406672",
     "exception": false,
     "start_time": "2025-01-12T23:06:39.404966",
     "status": "completed"
    },
    "tags": []
   },
   "source": []
  }
 ],
 "metadata": {
  "kaggle": {
   "accelerator": "none",
   "dataSources": [],
   "dockerImageVersionId": 30822,
   "isGpuEnabled": false,
   "isInternetEnabled": false,
   "language": "python",
   "sourceType": "notebook"
  },
  "kernelspec": {
   "display_name": "Python 3",
   "language": "python",
   "name": "python3"
  },
  "language_info": {
   "codemirror_mode": {
    "name": "ipython",
    "version": 3
   },
   "file_extension": ".py",
   "mimetype": "text/x-python",
   "name": "python",
   "nbconvert_exporter": "python",
   "pygments_lexer": "ipython3",
   "version": "3.10.12"
  },
  "papermill": {
   "default_parameters": {},
   "duration": 3.089822,
   "end_time": "2025-01-12T23:06:39.929023",
   "environment_variables": {},
   "exception": null,
   "input_path": "__notebook__.ipynb",
   "output_path": "__notebook__.ipynb",
   "parameters": {},
   "start_time": "2025-01-12T23:06:36.839201",
   "version": "2.6.0"
  }
 },
 "nbformat": 4,
 "nbformat_minor": 5
}
